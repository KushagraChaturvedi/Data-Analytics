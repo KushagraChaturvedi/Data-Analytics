{
 "cells": [
  {
   "cell_type": "markdown",
   "id": "c95397a5",
   "metadata": {},
   "source": [
    "# <center>Sentiment Analysis in Python</center>\n"
   ]
  },
  {
   "cell_type": "markdown",
   "id": "bdd82284",
   "metadata": {},
   "source": [
    "# Table of contents\n",
    "    - What is this about?\n",
    "    - Imports and setting up environment\n",
    "    - Reading Data\n",
    "    - A quick EDA\n",
    "    - Data Prepration\n",
    "    - VADER Model\n",
    "        - Introduction\n",
    "        - Downloading and Model initialization\n",
    "        - Testing\n",
    "    - RoBERTa Model\n",
    "        - Introduction\n",
    "        - Downloading and initializing Model\n",
    "        - Running on text Data\n",
    "    - Comparision between VADER and RoBERTa"
   ]
  },
  {
   "cell_type": "markdown",
   "id": "066a6029",
   "metadata": {},
   "source": [
    "# What is this about?\n",
    "    Sentiment analysis tools are much more needed now a days. For knowing about the sentiment of a tweets, posts, product reviews, news, blog articles and any other data posted online. \n",
    "    Its very hard for machine to understand the human experience, tone, attitude, emotion. But combination of linguistic + computer science techniques can help.\n",
    "    In this analysis I explored two of the common techniques to determine the sentiment of a text which are: \n",
    "     - VADER Model - NLTK (A Bag Of Word Approch)\n",
    "     - ROBERTA Model - Hugging face extension of BERT Model (Transformer based Model)"
   ]
  },
  {
   "cell_type": "markdown",
   "id": "4bf0aa01",
   "metadata": {},
   "source": [
    "#### Imports and setting up environments."
   ]
  },
  {
   "cell_type": "code",
   "execution_count": 101,
   "id": "90cbb426",
   "metadata": {},
   "outputs": [],
   "source": [
    "import pandas as pd\n",
    "import numpy as np\n",
    "import matplotlib.pyplot as plt\n",
    "import seaborn as sns\n",
    "from IPython.display import HTML\n",
    "\n",
    "plt.style.use('ggplot')\n",
    "\n",
    "import nltk"
   ]
  },
  {
   "cell_type": "markdown",
   "id": "03389ac7",
   "metadata": {},
   "source": [
    "#### Reading a amazon fine food reviews data-set. I subseted the first 100 reviews."
   ]
  },
  {
   "cell_type": "code",
   "execution_count": 102,
   "id": "4fde22ed",
   "metadata": {},
   "outputs": [],
   "source": [
    "df = pd.read_csv('archive/Reviews.csv')[:100]"
   ]
  },
  {
   "cell_type": "markdown",
   "id": "b80dd10e",
   "metadata": {},
   "source": [
    "#### A very quick EDA on data-set!!"
   ]
  },
  {
   "cell_type": "code",
   "execution_count": 103,
   "id": "cd373247",
   "metadata": {},
   "outputs": [
    {
     "data": {
      "text/html": [
       "<div>\n",
       "<style scoped>\n",
       "    .dataframe tbody tr th:only-of-type {\n",
       "        vertical-align: middle;\n",
       "    }\n",
       "\n",
       "    .dataframe tbody tr th {\n",
       "        vertical-align: top;\n",
       "    }\n",
       "\n",
       "    .dataframe thead th {\n",
       "        text-align: right;\n",
       "    }\n",
       "</style>\n",
       "<table border=\"1\" class=\"dataframe\">\n",
       "  <thead>\n",
       "    <tr style=\"text-align: right;\">\n",
       "      <th></th>\n",
       "      <th>Unnamed: 0</th>\n",
       "      <th>Id</th>\n",
       "      <th>ProductId</th>\n",
       "      <th>UserId</th>\n",
       "      <th>ProfileName</th>\n",
       "      <th>HelpfulnessNumerator</th>\n",
       "      <th>HelpfulnessDenominator</th>\n",
       "      <th>Score</th>\n",
       "      <th>Time</th>\n",
       "      <th>Summary</th>\n",
       "      <th>Text</th>\n",
       "    </tr>\n",
       "  </thead>\n",
       "  <tbody>\n",
       "    <tr>\n",
       "      <th>0</th>\n",
       "      <td>0</td>\n",
       "      <td>1</td>\n",
       "      <td>B001E4KFG0</td>\n",
       "      <td>A3SGXH7AUHU8GW</td>\n",
       "      <td>delmartian</td>\n",
       "      <td>1</td>\n",
       "      <td>1</td>\n",
       "      <td>5</td>\n",
       "      <td>1303862400</td>\n",
       "      <td>Good Quality Dog Food</td>\n",
       "      <td>I have bought several of the Vitality canned d...</td>\n",
       "    </tr>\n",
       "    <tr>\n",
       "      <th>1</th>\n",
       "      <td>1</td>\n",
       "      <td>2</td>\n",
       "      <td>B00813GRG4</td>\n",
       "      <td>A1D87F6ZCVE5NK</td>\n",
       "      <td>dll pa</td>\n",
       "      <td>0</td>\n",
       "      <td>0</td>\n",
       "      <td>1</td>\n",
       "      <td>1346976000</td>\n",
       "      <td>Not as Advertised</td>\n",
       "      <td>Product arrived labeled as Jumbo Salted Peanut...</td>\n",
       "    </tr>\n",
       "    <tr>\n",
       "      <th>2</th>\n",
       "      <td>2</td>\n",
       "      <td>3</td>\n",
       "      <td>B000LQOCH0</td>\n",
       "      <td>ABXLMWJIXXAIN</td>\n",
       "      <td>Natalia Corres \"Natalia Corres\"</td>\n",
       "      <td>1</td>\n",
       "      <td>1</td>\n",
       "      <td>4</td>\n",
       "      <td>1219017600</td>\n",
       "      <td>\"Delight\" says it all</td>\n",
       "      <td>This is a confection that has been around a fe...</td>\n",
       "    </tr>\n",
       "  </tbody>\n",
       "</table>\n",
       "</div>"
      ],
      "text/plain": [
       "   Unnamed: 0  Id   ProductId          UserId  \\\n",
       "0           0   1  B001E4KFG0  A3SGXH7AUHU8GW   \n",
       "1           1   2  B00813GRG4  A1D87F6ZCVE5NK   \n",
       "2           2   3  B000LQOCH0   ABXLMWJIXXAIN   \n",
       "\n",
       "                       ProfileName  HelpfulnessNumerator  \\\n",
       "0                       delmartian                     1   \n",
       "1                           dll pa                     0   \n",
       "2  Natalia Corres \"Natalia Corres\"                     1   \n",
       "\n",
       "   HelpfulnessDenominator  Score        Time                Summary  \\\n",
       "0                       1      5  1303862400  Good Quality Dog Food   \n",
       "1                       0      1  1346976000      Not as Advertised   \n",
       "2                       1      4  1219017600  \"Delight\" says it all   \n",
       "\n",
       "                                                Text  \n",
       "0  I have bought several of the Vitality canned d...  \n",
       "1  Product arrived labeled as Jumbo Salted Peanut...  \n",
       "2  This is a confection that has been around a fe...  "
      ]
     },
     "execution_count": 103,
     "metadata": {},
     "output_type": "execute_result"
    }
   ],
   "source": [
    "df.head(3)"
   ]
  },
  {
   "cell_type": "code",
   "execution_count": 104,
   "id": "8a3b1eef",
   "metadata": {},
   "outputs": [
    {
     "data": {
      "text/plain": [
       "'This is a confection that has been around a few centuries.  It is a light, pillowy citrus gelatin with nuts - in this case Filberts. And it is cut into tiny squares and then liberally coated with powdered sugar.  And it is a tiny mouthful of heaven.  Not too chewy, and very flavorful.  I highly recommend this yummy treat.  If you are familiar with the story of C.S. Lewis\\' \"The Lion, The Witch, and The Wardrobe\" - this is the treat that seduces Edmund into selling out his Brother and Sisters to the Witch.'"
      ]
     },
     "execution_count": 104,
     "metadata": {},
     "output_type": "execute_result"
    }
   ],
   "source": [
    "df.Text[2]"
   ]
  },
  {
   "cell_type": "code",
   "execution_count": 105,
   "id": "a2b16043",
   "metadata": {},
   "outputs": [],
   "source": [
    "df = df[['Id', 'ProfileName', 'Summary', 'Score', 'Text']]"
   ]
  },
  {
   "cell_type": "code",
   "execution_count": 106,
   "id": "33116897",
   "metadata": {},
   "outputs": [
    {
     "data": {
      "text/html": [
       "<div>\n",
       "<style scoped>\n",
       "    .dataframe tbody tr th:only-of-type {\n",
       "        vertical-align: middle;\n",
       "    }\n",
       "\n",
       "    .dataframe tbody tr th {\n",
       "        vertical-align: top;\n",
       "    }\n",
       "\n",
       "    .dataframe thead th {\n",
       "        text-align: right;\n",
       "    }\n",
       "</style>\n",
       "<table border=\"1\" class=\"dataframe\">\n",
       "  <thead>\n",
       "    <tr style=\"text-align: right;\">\n",
       "      <th></th>\n",
       "      <th>Id</th>\n",
       "      <th>ProfileName</th>\n",
       "      <th>Summary</th>\n",
       "      <th>Score</th>\n",
       "      <th>Text</th>\n",
       "    </tr>\n",
       "  </thead>\n",
       "  <tbody>\n",
       "    <tr>\n",
       "      <th>0</th>\n",
       "      <td>1</td>\n",
       "      <td>delmartian</td>\n",
       "      <td>Good Quality Dog Food</td>\n",
       "      <td>5</td>\n",
       "      <td>I have bought several of the Vitality canned d...</td>\n",
       "    </tr>\n",
       "    <tr>\n",
       "      <th>1</th>\n",
       "      <td>2</td>\n",
       "      <td>dll pa</td>\n",
       "      <td>Not as Advertised</td>\n",
       "      <td>1</td>\n",
       "      <td>Product arrived labeled as Jumbo Salted Peanut...</td>\n",
       "    </tr>\n",
       "    <tr>\n",
       "      <th>2</th>\n",
       "      <td>3</td>\n",
       "      <td>Natalia Corres \"Natalia Corres\"</td>\n",
       "      <td>\"Delight\" says it all</td>\n",
       "      <td>4</td>\n",
       "      <td>This is a confection that has been around a fe...</td>\n",
       "    </tr>\n",
       "  </tbody>\n",
       "</table>\n",
       "</div>"
      ],
      "text/plain": [
       "   Id                      ProfileName                Summary  Score  \\\n",
       "0   1                       delmartian  Good Quality Dog Food      5   \n",
       "1   2                           dll pa      Not as Advertised      1   \n",
       "2   3  Natalia Corres \"Natalia Corres\"  \"Delight\" says it all      4   \n",
       "\n",
       "                                                Text  \n",
       "0  I have bought several of the Vitality canned d...  \n",
       "1  Product arrived labeled as Jumbo Salted Peanut...  \n",
       "2  This is a confection that has been around a fe...  "
      ]
     },
     "execution_count": 106,
     "metadata": {},
     "output_type": "execute_result"
    }
   ],
   "source": [
    "df.head(3)"
   ]
  },
  {
   "cell_type": "code",
   "execution_count": 107,
   "id": "2565dea7",
   "metadata": {},
   "outputs": [],
   "source": [
    "df.Text[82] = df.Summary[82]"
   ]
  },
  {
   "cell_type": "code",
   "execution_count": 108,
   "id": "ad270104",
   "metadata": {},
   "outputs": [
    {
     "data": {
      "image/png": "[encoded data removed]",
      "text/plain": [
       "<Figure size 1000x300 with 1 Axes>"
      ]
     },
     "metadata": {},
     "output_type": "display_data"
    }
   ],
   "source": [
    "df.Score.value_counts().sort_index() \\\n",
    "    .plot(\n",
    "        kind = 'bar',\n",
    "        title = 'Data seems quite positive',\n",
    "        figsize = (10, 3),\n",
    "        xlabel = 'Review stars',\n",
    "        ylabel = 'Count'\n",
    "        )\n",
    "plt.show()"
   ]
  },
  {
   "cell_type": "markdown",
   "id": "045fef99",
   "metadata": {},
   "source": [
    "## The VADER (Valence Aware Dictionary for sEntiment Reasoning) Model\n",
    "    This is a lexicon and rule based approch having grammatical rules and syntatical convention insted of machine learning approch. The model constructed a huge dictionary of sentiment features. It not only contain words, but also phrases (such as “bad ass” and “the bomb”), emoticons (such as “:-)”) and sentiment-laden acronyms (such as “ROFL” and “WTF”).\n",
    "    The model returns a polarity and intensity scores from 0 to 1 or a compound score form -1 to 1 to the text, word feeded to the model."
   ]
  },
  {
   "cell_type": "markdown",
   "id": "d2fb60e6",
   "metadata": {},
   "source": [
    "### Downloads and Model Initialization"
   ]
  },
  {
   "cell_type": "markdown",
   "id": "60cadedf",
   "metadata": {},
   "source": [
    "#### I will be using SentimentIntensityAnalyzer from nltk. It is based on VADER Model..!"
   ]
  },
  {
   "cell_type": "code",
   "execution_count": 109,
   "id": "a299d296",
   "metadata": {},
   "outputs": [],
   "source": [
    "# nltk.download('vader_lexicon')"
   ]
  },
  {
   "cell_type": "code",
   "execution_count": 110,
   "id": "0bf91fd4",
   "metadata": {},
   "outputs": [],
   "source": [
    "from nltk.sentiment import SentimentIntensityAnalyzer\n",
    "sia = SentimentIntensityAnalyzer()"
   ]
  },
  {
   "cell_type": "code",
   "execution_count": 111,
   "id": "1a87c65c",
   "metadata": {},
   "outputs": [
    {
     "data": {
      "text/plain": [
       "{'neg': 0.218, 'neu': 0.495, 'pos': 0.287, 'compound': 0.1779}"
      ]
     },
     "execution_count": 111,
     "metadata": {},
     "output_type": "execute_result"
    }
   ],
   "source": [
    "sia.polarity_scores('How did no one find it good.')"
   ]
  },
  {
   "cell_type": "markdown",
   "id": "5835ad6b",
   "metadata": {},
   "source": [
    "#### VADER Model Scores as 'vs' "
   ]
  },
  {
   "cell_type": "code",
   "execution_count": 112,
   "id": "a5a095ee",
   "metadata": {},
   "outputs": [],
   "source": [
    "vs = pd.Series(map(lambda x: sia.polarity_scores(x), df.Text))"
   ]
  },
  {
   "cell_type": "code",
   "execution_count": 113,
   "id": "bf93e9e0",
   "metadata": {},
   "outputs": [],
   "source": [
    "df['v_neg'] = pd.Series(map(lambda x: x['neg'], vs))\n",
    "df['v_pos'] = pd.Series(map(lambda x: x['pos'], vs))\n",
    "df['v_neu'] = pd.Series(map(lambda x: x['neu'], vs))\n",
    "df['v_compound'] = pd.Series(map(lambda x: x['compound'], vs))"
   ]
  },
  {
   "cell_type": "markdown",
   "id": "f42ca7b5",
   "metadata": {},
   "source": [
    "## Its looks like VADER Model results are pretty positive too...!"
   ]
  },
  {
   "cell_type": "code",
   "execution_count": 114,
   "id": "1900f4df",
   "metadata": {},
   "outputs": [
    {
     "data": {
      "image/png": "[encoded data removed]",
      "text/plain": [
       "<Figure size 800x400 with 1 Axes>"
      ]
     },
     "metadata": {},
     "output_type": "display_data"
    }
   ],
   "source": [
    "sns.displot(df.v_compound, aspect = 2, height = 4)\n",
    "plt.show()"
   ]
  },
  {
   "cell_type": "code",
   "execution_count": 115,
   "id": "81fdd92e",
   "metadata": {
    "scrolled": false
   },
   "outputs": [
    {
     "data": {
      "image/png": "[encoded data removed]",
      "text/plain": [
       "<Figure size 640x480 with 2 Axes>"
      ]
     },
     "metadata": {},
     "output_type": "display_data"
    }
   ],
   "source": [
    "fig, ax = plt.subplots(1, 2)\n",
    "sns.histplot(x = df.v_compound.index, y = df.v_compound , ax = ax[0])\n",
    "sns.scatterplot(x = df.v_compound.index, y = df.v_compound , ax = ax[1])\n",
    "plt.show()"
   ]
  },
  {
   "cell_type": "code",
   "execution_count": 116,
   "id": "be5c130a",
   "metadata": {},
   "outputs": [
    {
     "data": {
      "text/plain": [
       "<AxesSubplot: xlabel='Score', ylabel='v_compound'>"
      ]
     },
     "execution_count": 116,
     "metadata": {},
     "output_type": "execute_result"
    },
    {
     "data": {
      "image/png": "[encoded data removed]",
      "text/plain": [
       "<Figure size 640x480 with 1 Axes>"
      ]
     },
     "metadata": {},
     "output_type": "display_data"
    }
   ],
   "source": [
    "sns.barplot(x='Score', y='v_compound', data=df)"
   ]
  },
  {
   "cell_type": "markdown",
   "id": "b89ba9b7",
   "metadata": {},
   "source": [
    "#### Results of VADER Model is more accurate for higher scores."
   ]
  },
  {
   "cell_type": "markdown",
   "id": "265400fc",
   "metadata": {},
   "source": [
    "# RoBERTa (Robustly optimizeed BERT pre-Train Approch)\n",
    "    This is a transformer based model and a extension of BERT a Google's NLP(Natural Language Processing) Model.\n",
    "    This transformer based model can also somewhat handle the context between words in the sentences.\n",
    "     "
   ]
  },
  {
   "cell_type": "code",
   "execution_count": 117,
   "id": "2281e520",
   "metadata": {},
   "outputs": [
    {
     "data": {
      "text/html": [
       "<img src='http://mccormickml.com/assets/BERT/BERT_Mountain.png'>"
      ],
      "text/plain": [
       "<IPython.core.display.HTML object>"
      ]
     },
     "execution_count": 117,
     "metadata": {},
     "output_type": "execute_result"
    }
   ],
   "source": [
    "HTML('''<img src='http://mccormickml.com/assets/BERT/BERT_Mountain.png'>''')"
   ]
  },
  {
   "cell_type": "markdown",
   "id": "f24bb9c8",
   "metadata": {},
   "source": [
    "    The Model evovles from recurrent neural networks. It uses a LSTM(Long Short Term Memory) layer with RNN(Recurrent Neural Network)\n",
    "    Although this approch was very tideous and tooks a lot time and computational power. Which eventully improved by Encoder-Decoder, Transfomers, and BERT Model.\n",
    "    The RoBERTa Model is Extension of BERT Model. The hugging face train, tune-up and customise the model for sentiment analysis. \n",
    "    First i tokenize the text into phrases and words. Then encode the text, Text encoding is a way of representing the text data into numeric vector format.\n",
    "    Neurals networks process the vectorised text sequentially. "
   ]
  },
  {
   "cell_type": "code",
   "execution_count": 118,
   "id": "ddb090d3",
   "metadata": {},
   "outputs": [],
   "source": [
    "from transformers import AutoTokenizer, AutoModelForSequenceClassification\n",
    "from scipy.special import softmax"
   ]
  },
  {
   "cell_type": "markdown",
   "id": "963b968c",
   "metadata": {},
   "source": [
    "I downloaded nearly 500 MB of pre-trained Model"
   ]
  },
  {
   "cell_type": "code",
   "execution_count": 119,
   "id": "7c4b2b27",
   "metadata": {},
   "outputs": [],
   "source": [
    "MODEL = f'cardiffnlp/twitter-roberta-base-sentiment'\n",
    "tokenizer = AutoTokenizer.from_pretrained(MODEL)\n",
    "model = AutoModelForSequenceClassification.from_pretrained(MODEL)"
   ]
  },
  {
   "cell_type": "code",
   "execution_count": 120,
   "id": "bfea701d",
   "metadata": {},
   "outputs": [],
   "source": [
    "def RoBERTa_Model(text):\n",
    "    encoded_text = tokenizer(text, return_tensors='pt')\n",
    "    output = model(**encoded_text)\n",
    "    scores = softmax(output[0][0].detach().numpy())\n",
    "\n",
    "    return scores"
   ]
  },
  {
   "cell_type": "markdown",
   "id": "816eb747",
   "metadata": {},
   "source": [
    "#### RoBERTa Scores as rs "
   ]
  },
  {
   "cell_type": "code",
   "execution_count": 121,
   "id": "7c2427b6",
   "metadata": {},
   "outputs": [],
   "source": [
    "rs = pd.Series(map(lambda x: RoBERTa_Model(x), df.Text))"
   ]
  },
  {
   "cell_type": "code",
   "execution_count": 122,
   "id": "7e7dd245",
   "metadata": {},
   "outputs": [],
   "source": [
    "df['r_neg'] = pd.Series(map(lambda x: x[0], rs))\n",
    "df['r_neu'] = pd.Series(map(lambda x: x[1], rs))\n",
    "df['r_pos'] = pd.Series(map(lambda x: x[2], rs))"
   ]
  },
  {
   "cell_type": "markdown",
   "id": "cb497850",
   "metadata": {},
   "source": [
    "### Conparition between VADER and RoBERTa"
   ]
  },
  {
   "cell_type": "code",
   "execution_count": null,
   "id": "e714c1da",
   "metadata": {
    "scrolled": true
   },
   "outputs": [],
   "source": [
    "sns.pairplot(data = df,\n",
    "            vars = ['v_neg', 'v_neu', 'v_pos', 'r_neg', 'r_neu', 'r_pos'],\n",
    "            hue = 'Score',\n",
    "            palette='tab10')\n",
    "plt.show()"
   ]
  }
 ],
 "metadata": {
  "kernelspec": {
   "display_name": "Python 3 (ipykernel)",
   "language": "python",
   "name": "python3"
  },
  "language_info": {
   "codemirror_mode": {
    "name": "ipython",
    "version": 3
   },
   "file_extension": ".py",
   "mimetype": "text/x-python",
   "name": "python",
   "nbconvert_exporter": "python",
   "pygments_lexer": "ipython3",
   "version": "3.10.7"
  }
 },
 "nbformat": 4,
 "nbformat_minor": 5
}
