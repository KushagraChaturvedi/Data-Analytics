{
 "cells": [
  {
   "cell_type": "markdown",
   "id": "c95397a5",
   "metadata": {},
   "source": [
    "# <center>Sentiment Analysis in Python</center>\n"
   ]
  },
  {
   "cell_type": "markdown",
   "id": "bdd82284",
   "metadata": {},
   "source": [
    "# What is this about?"
   ]
  },
  {
   "cell_type": "markdown",
   "id": "045fef99",
   "metadata": {},
   "source": [
    "Sentiment analysis tools are much more needed now a days. For knowing about the sentiment of a tweets, posts, product reviews, news, blog articles and any other data posted online.\n",
    "\n",
    "Its very hard for machine to understand the human experience, tone, attitude, emotion. But combination of linguistic + computer science techniques can help.\n",
    "\n",
    "These tools are based on machine learning and deep learning models. Here I tried to explore different models by which we can analyse sentiment of a text data.\n",
    "\n",
    "I will broadly explore three type of technique to determine the sentiment of a text which are: \n",
    " - \"Lexical Analysis ( Rule Based Approch ) VADER Model\"\n",
    " - RNNs (Deep Learning)\n",
    " - classifiers (Machine Learning) or ROBERTA Model Hugging face extension of BERT Model\n",
    "\n",
    "I will start with a simplest one rule based model, Although this is the hardest model to implement from scratch So i will use NLTK's (Natural Language Tool Kit 'A python Natural language library') VADER' Model.\n",
    "\n",
    "\n",
    "## The VADER (Valence Aware Dictionary for sEntiment Reasoning) Model\n",
    "    This is a lexicon and rule based approch having grammatical rules and syntatical convention insted of machine learning approch. The model constructed a huge dictionary of sentiment features. It not only contain words, but also phrases (such as “bad ass” and “the bomb”), emoticons (such as “:-)”) and sentiment-laden acronyms (such as “ROFL” and “WTF”).\n",
    "    The model returns a polarity and intensity scores from 0 to 1 or a compound score form -1 to 1 to the text, word feeded to the model."
   ]
  },
  {
   "cell_type": "markdown",
   "id": "4bf0aa01",
   "metadata": {},
   "source": [
    "#### Imports"
   ]
  },
  {
   "cell_type": "code",
   "execution_count": 2,
   "id": "90cbb426",
   "metadata": {},
   "outputs": [],
   "source": [
    "import pandas as pd\n",
    "import numpy as np\n",
    "import matplotlib.pyplot as plt\n",
    "import seaborn as sns\n",
    "\n",
    "plt.style.use('ggplot')\n",
    "\n",
    "import nltk"
   ]
  },
  {
   "cell_type": "markdown",
   "id": "03389ac7",
   "metadata": {},
   "source": [
    "#### Reading a amazon fine food reviews data-set. I will be only working with the first 100 reviews."
   ]
  },
  {
   "cell_type": "code",
   "execution_count": 3,
   "id": "4fde22ed",
   "metadata": {},
   "outputs": [],
   "source": [
    "df = pd.read_csv('archive/Reviews.csv')[:100]"
   ]
  },
  {
   "cell_type": "code",
   "execution_count": 4,
   "id": "cd373247",
   "metadata": {},
   "outputs": [
    {
     "data": {
      "text/html": [
       "<div>\n",
       "<style scoped>\n",
       "    .dataframe tbody tr th:only-of-type {\n",
       "        vertical-align: middle;\n",
       "    }\n",
       "\n",
       "    .dataframe tbody tr th {\n",
       "        vertical-align: top;\n",
       "    }\n",
       "\n",
       "    .dataframe thead th {\n",
       "        text-align: right;\n",
       "    }\n",
       "</style>\n",
       "<table border=\"1\" class=\"dataframe\">\n",
       "  <thead>\n",
       "    <tr style=\"text-align: right;\">\n",
       "      <th></th>\n",
       "      <th>Id</th>\n",
       "      <th>ProductId</th>\n",
       "      <th>UserId</th>\n",
       "      <th>ProfileName</th>\n",
       "      <th>HelpfulnessNumerator</th>\n",
       "      <th>HelpfulnessDenominator</th>\n",
       "      <th>Score</th>\n",
       "      <th>Time</th>\n",
       "      <th>Summary</th>\n",
       "      <th>Text</th>\n",
       "    </tr>\n",
       "  </thead>\n",
       "  <tbody>\n",
       "    <tr>\n",
       "      <th>0</th>\n",
       "      <td>1</td>\n",
       "      <td>B001E4KFG0</td>\n",
       "      <td>A3SGXH7AUHU8GW</td>\n",
       "      <td>delmartian</td>\n",
       "      <td>1</td>\n",
       "      <td>1</td>\n",
       "      <td>5</td>\n",
       "      <td>1303862400</td>\n",
       "      <td>Good Quality Dog Food</td>\n",
       "      <td>I have bought several of the Vitality canned d...</td>\n",
       "    </tr>\n",
       "    <tr>\n",
       "      <th>1</th>\n",
       "      <td>2</td>\n",
       "      <td>B00813GRG4</td>\n",
       "      <td>A1D87F6ZCVE5NK</td>\n",
       "      <td>dll pa</td>\n",
       "      <td>0</td>\n",
       "      <td>0</td>\n",
       "      <td>1</td>\n",
       "      <td>1346976000</td>\n",
       "      <td>Not as Advertised</td>\n",
       "      <td>Product arrived labeled as Jumbo Salted Peanut...</td>\n",
       "    </tr>\n",
       "    <tr>\n",
       "      <th>2</th>\n",
       "      <td>3</td>\n",
       "      <td>B000LQOCH0</td>\n",
       "      <td>ABXLMWJIXXAIN</td>\n",
       "      <td>Natalia Corres \"Natalia Corres\"</td>\n",
       "      <td>1</td>\n",
       "      <td>1</td>\n",
       "      <td>4</td>\n",
       "      <td>1219017600</td>\n",
       "      <td>\"Delight\" says it all</td>\n",
       "      <td>This is a confection that has been around a fe...</td>\n",
       "    </tr>\n",
       "  </tbody>\n",
       "</table>\n",
       "</div>"
      ],
      "text/plain": [
       "   Id   ProductId          UserId                      ProfileName  \\\n",
       "0   1  B001E4KFG0  A3SGXH7AUHU8GW                       delmartian   \n",
       "1   2  B00813GRG4  A1D87F6ZCVE5NK                           dll pa   \n",
       "2   3  B000LQOCH0   ABXLMWJIXXAIN  Natalia Corres \"Natalia Corres\"   \n",
       "\n",
       "   HelpfulnessNumerator  HelpfulnessDenominator  Score        Time  \\\n",
       "0                     1                       1      5  1303862400   \n",
       "1                     0                       0      1  1346976000   \n",
       "2                     1                       1      4  1219017600   \n",
       "\n",
       "                 Summary                                               Text  \n",
       "0  Good Quality Dog Food  I have bought several of the Vitality canned d...  \n",
       "1      Not as Advertised  Product arrived labeled as Jumbo Salted Peanut...  \n",
       "2  \"Delight\" says it all  This is a confection that has been around a fe...  "
      ]
     },
     "execution_count": 4,
     "metadata": {},
     "output_type": "execute_result"
    }
   ],
   "source": [
    "df.head(3)"
   ]
  },
  {
   "cell_type": "code",
   "execution_count": 5,
   "id": "8a3b1eef",
   "metadata": {},
   "outputs": [
    {
     "data": {
      "text/plain": [
       "'This is a confection that has been around a few centuries.  It is a light, pillowy citrus gelatin with nuts - in this case Filberts. And it is cut into tiny squares and then liberally coated with powdered sugar.  And it is a tiny mouthful of heaven.  Not too chewy, and very flavorful.  I highly recommend this yummy treat.  If you are familiar with the story of C.S. Lewis\\' \"The Lion, The Witch, and The Wardrobe\" - this is the treat that seduces Edmund into selling out his Brother and Sisters to the Witch.'"
      ]
     },
     "execution_count": 5,
     "metadata": {},
     "output_type": "execute_result"
    }
   ],
   "source": [
    "df.Text[2]"
   ]
  },
  {
   "cell_type": "code",
   "execution_count": 6,
   "id": "a2b16043",
   "metadata": {},
   "outputs": [],
   "source": [
    "df = df[['Id', 'ProfileName', 'Summary', 'Score', 'Text']]"
   ]
  },
  {
   "cell_type": "code",
   "execution_count": 7,
   "id": "33116897",
   "metadata": {},
   "outputs": [
    {
     "data": {
      "text/html": [
       "<div>\n",
       "<style scoped>\n",
       "    .dataframe tbody tr th:only-of-type {\n",
       "        vertical-align: middle;\n",
       "    }\n",
       "\n",
       "    .dataframe tbody tr th {\n",
       "        vertical-align: top;\n",
       "    }\n",
       "\n",
       "    .dataframe thead th {\n",
       "        text-align: right;\n",
       "    }\n",
       "</style>\n",
       "<table border=\"1\" class=\"dataframe\">\n",
       "  <thead>\n",
       "    <tr style=\"text-align: right;\">\n",
       "      <th></th>\n",
       "      <th>Id</th>\n",
       "      <th>ProfileName</th>\n",
       "      <th>Summary</th>\n",
       "      <th>Score</th>\n",
       "      <th>Text</th>\n",
       "    </tr>\n",
       "  </thead>\n",
       "  <tbody>\n",
       "    <tr>\n",
       "      <th>0</th>\n",
       "      <td>1</td>\n",
       "      <td>delmartian</td>\n",
       "      <td>Good Quality Dog Food</td>\n",
       "      <td>5</td>\n",
       "      <td>I have bought several of the Vitality canned d...</td>\n",
       "    </tr>\n",
       "    <tr>\n",
       "      <th>1</th>\n",
       "      <td>2</td>\n",
       "      <td>dll pa</td>\n",
       "      <td>Not as Advertised</td>\n",
       "      <td>1</td>\n",
       "      <td>Product arrived labeled as Jumbo Salted Peanut...</td>\n",
       "    </tr>\n",
       "    <tr>\n",
       "      <th>2</th>\n",
       "      <td>3</td>\n",
       "      <td>Natalia Corres \"Natalia Corres\"</td>\n",
       "      <td>\"Delight\" says it all</td>\n",
       "      <td>4</td>\n",
       "      <td>This is a confection that has been around a fe...</td>\n",
       "    </tr>\n",
       "  </tbody>\n",
       "</table>\n",
       "</div>"
      ],
      "text/plain": [
       "   Id                      ProfileName                Summary  Score  \\\n",
       "0   1                       delmartian  Good Quality Dog Food      5   \n",
       "1   2                           dll pa      Not as Advertised      1   \n",
       "2   3  Natalia Corres \"Natalia Corres\"  \"Delight\" says it all      4   \n",
       "\n",
       "                                                Text  \n",
       "0  I have bought several of the Vitality canned d...  \n",
       "1  Product arrived labeled as Jumbo Salted Peanut...  \n",
       "2  This is a confection that has been around a fe...  "
      ]
     },
     "execution_count": 7,
     "metadata": {},
     "output_type": "execute_result"
    }
   ],
   "source": [
    "df.head(3)"
   ]
  },
  {
   "cell_type": "markdown",
   "id": "b80dd10e",
   "metadata": {},
   "source": [
    "#### A very quick EDA on data-set!!"
   ]
  },
  {
   "cell_type": "code",
   "execution_count": 8,
   "id": "ad270104",
   "metadata": {},
   "outputs": [
    {
     "data": {
      "image/png": "[encoded data removed]",
      "text/plain": [
       "<Figure size 1000x300 with 1 Axes>"
      ]
     },
     "metadata": {},
     "output_type": "display_data"
    }
   ],
   "source": [
    "df.Score.value_counts().sort_index() \\\n",
    "    .plot(\n",
    "        kind = 'bar',\n",
    "        title = 'Data seems quite positive',\n",
    "        figsize = (10, 3),\n",
    "        xlabel = 'Review stars',\n",
    "        ylabel = 'Count'\n",
    "        )\n",
    "plt.show()"
   ]
  },
  {
   "cell_type": "markdown",
   "id": "60cadedf",
   "metadata": {},
   "source": [
    "#### I will be using SentimentIntensityAnalyzer from nltk. It is based on VADER Model..!"
   ]
  },
  {
   "cell_type": "code",
   "execution_count": 9,
   "id": "a299d296",
   "metadata": {},
   "outputs": [
    {
     "name": "stderr",
     "output_type": "stream",
     "text": [
      "[nltk_data] Downloading package vader_lexicon to C:\\Users\\Kushagra\n",
      "[nltk_data]     Chaturvedi\\AppData\\Roaming\\nltk_data...\n",
      "[nltk_data]   Package vader_lexicon is already up-to-date!\n"
     ]
    },
    {
     "data": {
      "text/plain": [
       "True"
      ]
     },
     "execution_count": 9,
     "metadata": {},
     "output_type": "execute_result"
    }
   ],
   "source": [
    "nltk.download('vader_lexicon')"
   ]
  },
  {
   "cell_type": "code",
   "execution_count": 10,
   "id": "0bf91fd4",
   "metadata": {},
   "outputs": [],
   "source": [
    "from nltk.sentiment import SentimentIntensityAnalyzer\n",
    "sia = SentimentIntensityAnalyzer()"
   ]
  },
  {
   "cell_type": "code",
   "execution_count": 11,
   "id": "1a87c65c",
   "metadata": {},
   "outputs": [
    {
     "data": {
      "text/plain": [
       "{'neg': 0.218, 'neu': 0.495, 'pos': 0.287, 'compound': 0.1779}"
      ]
     },
     "execution_count": 11,
     "metadata": {},
     "output_type": "execute_result"
    }
   ],
   "source": [
    "sia.polarity_scores('How did no one find it good.')"
   ]
  },
  {
   "cell_type": "markdown",
   "id": "5835ad6b",
   "metadata": {},
   "source": [
    "#### VADER Model Scores as 'vs' "
   ]
  },
  {
   "cell_type": "code",
   "execution_count": 58,
   "id": "a5a095ee",
   "metadata": {},
   "outputs": [],
   "source": [
    "vs = pd.Series(map(lambda x: sia.polarity_scores(x)['compound'], df.Text))"
   ]
  },
  {
   "cell_type": "markdown",
   "id": "f42ca7b5",
   "metadata": {},
   "source": [
    "## Its looks like VADER Model results are pretty positive too...!"
   ]
  },
  {
   "cell_type": "code",
   "execution_count": 66,
   "id": "1900f4df",
   "metadata": {},
   "outputs": [
    {
     "data": {
      "image/png": "[encoded data removed]",
      "text/plain": [
       "<Figure size 800x400 with 1 Axes>"
      ]
     },
     "metadata": {},
     "output_type": "display_data"
    }
   ],
   "source": [
    "sns.displot(vs, aspect = 2, height = 4)\n",
    "plt.show()"
   ]
  },
  {
   "cell_type": "code",
   "execution_count": 76,
   "id": "81fdd92e",
   "metadata": {},
   "outputs": [
    {
     "data": {
      "image/png": "[encoded data removed]",
      "text/plain": [
       "<Figure size 640x480 with 2 Axes>"
      ]
     },
     "metadata": {},
     "output_type": "display_data"
    }
   ],
   "source": [
    "fig, ax = plt.subplots(1, 2)\n",
    "sns.histplot(x = vs.index, y = vs , ax = ax[0])\n",
    "sns.scatterplot(x = vs.index, y = vs , ax = ax[1])\n",
    "plt.show()"
   ]
  },
  {
   "cell_type": "markdown",
   "id": "265400fc",
   "metadata": {},
   "source": [
    "#### Now What next ROBERTA or RNN?"
   ]
  }
 ],
 "metadata": {
  "kernelspec": {
   "display_name": "Python 3 (ipykernel)",
   "language": "python",
   "name": "python3"
  },
  "language_info": {
   "codemirror_mode": {
    "name": "ipython",
    "version": 3
   },
   "file_extension": ".py",
   "mimetype": "text/x-python",
   "name": "python",
   "nbconvert_exporter": "python",
   "pygments_lexer": "ipython3",
   "version": "3.10.7"
  }
 },
 "nbformat": 4,
 "nbformat_minor": 5
}
